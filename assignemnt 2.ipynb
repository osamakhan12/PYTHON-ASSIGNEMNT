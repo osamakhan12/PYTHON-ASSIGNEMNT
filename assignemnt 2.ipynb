{
 "cells": [
  {
   "cell_type": "markdown",
   "metadata": {},
   "source": [
    "# 1. Write a program which takes 5 inputs from user for different subject’smarks, total it and generate mark sheet using grades ?"
   ]
  },
  {
   "cell_type": "code",
   "execution_count": 33,
   "metadata": {},
   "outputs": [
    {
     "name": "stdout",
     "output_type": "stream",
     "text": [
      "enter marks for maths:55\n",
      "enter marks for maths:43\n",
      "enter marks for maths:33\n",
      "enter marks for maths:2\n",
      "enter marks for maths:1\n",
      "fail\n",
      "26.8 %\n"
     ]
    }
   ],
   "source": [
    "a=int(input('enter marks for maths:'))\n",
    "b=int(input('enter marks for maths:'))\n",
    "c=int(input('enter marks for maths:'))\n",
    "d=int(input('enter marks for maths:'))\n",
    "e=int(input('enter marks for maths:'))\n",
    "total=a+b+c+d+e\n",
    "\n",
    "percent=total/500*100\n",
    "if percent >= 90 and percent <=100  :\n",
    "    print(\"COGRATS EXCELLENT RESULT\")\n",
    "elif percent >= 80 and percent <=90:\n",
    "    print(\"COGRATS MORE THAN GOOD RESULT\")\n",
    "elif percent >= 70 and percent <=80:\n",
    "    print(\"COGRATS GOOD RESULT\")\n",
    "elif percent >= 60 and percent <=70:\n",
    "    print(\"COGRATS FAIR RESULT\")\n",
    "elif percent >= 50 and percent <=60:\n",
    "     print(\"COGRATS SATISFACTIONARY RESULT\")\n",
    "else:\n",
    "    print('fail')\n",
    "print(percent,\"%\")\n"
   ]
  },
  {
   "cell_type": "markdown",
   "metadata": {},
   "source": [
    "# 2. Write a program which take input from user and identify that the given number is even or odd?"
   ]
  },
  {
   "cell_type": "code",
   "execution_count": 35,
   "metadata": {},
   "outputs": [
    {
     "name": "stdout",
     "output_type": "stream",
     "text": [
      "enter number to check=5\n",
      "odd\n"
     ]
    }
   ],
   "source": [
    "num=int(input('enter number to check='))\n",
    "if num%2==0:\n",
    "    print('even')\n",
    "else:\n",
    "    print('odd')\n"
   ]
  },
  {
   "cell_type": "markdown",
   "metadata": {},
   "source": [
    "# Write a Python program to sum all the numeric items in a list?"
   ]
  },
  {
   "cell_type": "code",
   "execution_count": 40,
   "metadata": {},
   "outputs": [
    {
     "data": {
      "text/plain": [
       "39"
      ]
     },
     "execution_count": 40,
     "metadata": {},
     "output_type": "execute_result"
    }
   ],
   "source": [
    "a=[1,3,5,6,7,8,9]\n",
    "sum(a)"
   ]
  },
  {
   "cell_type": "markdown",
   "metadata": {},
   "source": [
    "# 3. Write a program which print the length of the list?"
   ]
  },
  {
   "cell_type": "code",
   "execution_count": 37,
   "metadata": {},
   "outputs": [
    {
     "name": "stdout",
     "output_type": "stream",
     "text": [
      "length 7\n"
     ]
    }
   ],
   "source": [
    "    \n",
    "a=[1,3,5,6,7,8,9]\n",
    "print('length',len(a))\n",
    "\n"
   ]
  },
  {
   "cell_type": "markdown",
   "metadata": {},
   "source": [
    "# Write a Python program to get the largest number from a numeric list."
   ]
  },
  {
   "cell_type": "code",
   "execution_count": 38,
   "metadata": {},
   "outputs": [
    {
     "name": "stdout",
     "output_type": "stream",
     "text": [
      "9\n"
     ]
    }
   ],
   "source": [
    "a=[1,3,5,6,7,8,9]\n",
    "for an in a:\n",
    "    b=max(a)\n",
    "print(b)    \n"
   ]
  },
  {
   "cell_type": "markdown",
   "metadata": {},
   "source": [
    "# Take a list, say for example this one:\n",
    "a = [1, 1, 2, 3, 5, 8, 13, 21, 34, 55, 89]\n",
    "and write a program that prints out all the elements of the list that are\n",
    "less than 5."
   ]
  },
  {
   "cell_type": "code",
   "execution_count": 39,
   "metadata": {},
   "outputs": [
    {
     "data": {
      "text/plain": [
       "[1, 1, 2, 3]"
      ]
     },
     "execution_count": 39,
     "metadata": {},
     "output_type": "execute_result"
    }
   ],
   "source": [
    "a = [1, 1, 2, 3, 5, 8, 13, 21, 34, 55, 89]\n",
    "b=[]    \n",
    "for i in a:\n",
    "    if(i<5):\n",
    "        b.append(i)\n",
    "b         "
   ]
  },
  {
   "cell_type": "code",
   "execution_count": null,
   "metadata": {},
   "outputs": [],
   "source": []
  }
 ],
 "metadata": {
  "kernelspec": {
   "display_name": "Python 3",
   "language": "python",
   "name": "python3"
  },
  "language_info": {
   "codemirror_mode": {
    "name": "ipython",
    "version": 3
   },
   "file_extension": ".py",
   "mimetype": "text/x-python",
   "name": "python",
   "nbconvert_exporter": "python",
   "pygments_lexer": "ipython3",
   "version": "3.7.4"
  }
 },
 "nbformat": 4,
 "nbformat_minor": 2
}
