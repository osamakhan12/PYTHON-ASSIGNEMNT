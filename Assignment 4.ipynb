{
 "cells": [
  {
   "cell_type": "markdown",
   "metadata": {},
   "source": [
    "# Question1:\n",
    "Use a dictionary to store information about a person you know. Store their first name, last name, age,\n",
    "and the city in which they live. You should have keys such as first_name, last_name, age, and city. Print\n",
    "each piece of information stored in your dictionary. Add a new key value pair about qualification then\n",
    "update the qualification value to high academic level then delete it."
   ]
  },
  {
   "cell_type": "code",
   "execution_count": 9,
   "metadata": {},
   "outputs": [
    {
     "name": "stdout",
     "output_type": "stream",
     "text": [
      "{'first_name': 'osama', 'last_name': 'khan', 'age': '18'}\n"
     ]
    }
   ],
   "source": [
    "dic = {\"first_name\":'osama',\"last_name\":'khan',\"age\":\"18\"}\n",
    "print(dic)"
   ]
  },
  {
   "cell_type": "code",
   "execution_count": 2,
   "metadata": {},
   "outputs": [],
   "source": [
    "dic[\"qualification\"]='PHD'"
   ]
  },
  {
   "cell_type": "code",
   "execution_count": 3,
   "metadata": {},
   "outputs": [
    {
     "name": "stdout",
     "output_type": "stream",
     "text": [
      "{'first_name': 'osama', 'last_name': 'khan', 'age': '18', 'qualification': 'PHD'}\n"
     ]
    }
   ],
   "source": [
    "print(dic)"
   ]
  },
  {
   "cell_type": "code",
   "execution_count": 7,
   "metadata": {},
   "outputs": [],
   "source": [
    "del dic[\"qualification\"]"
   ]
  },
  {
   "cell_type": "code",
   "execution_count": 8,
   "metadata": {},
   "outputs": [
    {
     "name": "stdout",
     "output_type": "stream",
     "text": [
      "{'first_name': 'osama', 'last_name': 'khan', 'age': '18'}\n"
     ]
    }
   ],
   "source": [
    "print(dic)"
   ]
  },
  {
   "cell_type": "code",
   "execution_count": null,
   "metadata": {},
   "outputs": [],
   "source": []
  },
  {
   "cell_type": "markdown",
   "metadata": {},
   "source": [
    "# Question2:\n",
    "Make a dictionary called cities. Use the names of three cities as keys in your dictionary. Create a\n",
    "dictionary of information about each city and include the country that the city is in, its approximate\n",
    "population, and one fact about that city. The keys for each city’s dictionary should be something like\n",
    "country, population, and fact. Print the name of each city and all of the information you have stored\n",
    "about it."
   ]
  },
  {
   "cell_type": "code",
   "execution_count": 2,
   "metadata": {},
   "outputs": [],
   "source": [
    "cities=[{\n",
    "    'cities':'karachi',\n",
    "    'country':'pakistan',\n",
    "    'population':'20B',\n",
    "    'fact':'hello'\n",
    "        },\n",
    "        {\n",
    "      'cities':'lahore',      \n",
    "     'country':'pakistan',\n",
    "    'population':'20B',\n",
    "    'fact':'hello'\n",
    "        },\n",
    "         {\n",
    "      'cities':'islamabad',      \n",
    "     'country':'pakistan',\n",
    "    'population':'20B',\n",
    "    'fact':'hello'\n",
    "         }\n",
    "]\n"
   ]
  },
  {
   "cell_type": "code",
   "execution_count": 10,
   "metadata": {},
   "outputs": [
    {
     "name": "stdout",
     "output_type": "stream",
     "text": [
      "city namekarachi\n",
      "country namepakistan\n",
      "popullation20B\n",
      "facthello\n",
      "*************************************\n",
      "city namelahore\n",
      "country namepakistan\n",
      "popullation20B\n",
      "facthello\n",
      "*************************************\n",
      "city nameislamabad\n",
      "country namepakistan\n",
      "popullation20B\n",
      "facthello\n",
      "*************************************\n"
     ]
    }
   ],
   "source": [
    "for citi in cities:\n",
    "    print(\"city name\"+citi['cities']+'\\n'+\"country name\"+citi[\"country\"]+'\\n'+\"popullation\"+citi['population']+'\\n'+'fact'+citi['fact'])\n",
    "    print(\"*************************************\")\n",
    "    "
   ]
  },
  {
   "cell_type": "markdown",
   "metadata": {},
   "source": [
    "# Question3:\n",
    "A movie theater charges different ticket prices depending on a person’s age. If a person is under the age of 3, the ticket is free; if they are between 3 and 12, the ticket is \n",
    "10;𝑎𝑛𝑑𝑖𝑓𝑡ℎ𝑒𝑦𝑎𝑟𝑒𝑜𝑣𝑒𝑟𝑎𝑔𝑒12,𝑡ℎ𝑒𝑡𝑖𝑐𝑘𝑒𝑡𝑖𝑠\n",
    "10;andiftheyareoverage12,theticketis\n",
    "15. Write a loop in which you ask users their age, and then tell them the cost of their movie ticket."
   ]
  },
  {
   "cell_type": "code",
   "execution_count": 19,
   "metadata": {},
   "outputs": [
    {
     "name": "stdout",
     "output_type": "stream",
     "text": [
      "please enter you age = 3\n",
      "free\n",
      "please enter you age = 4\n",
      "please pay 10$\n",
      "please enter you age = 5\n",
      "please pay 10$\n",
      "please enter you age = 6\n",
      "please pay 10$\n",
      "please enter you age = 55\n",
      "please pay 15$\n"
     ]
    }
   ],
   "source": [
    "while True:\n",
    "    age=int(input('please enter you age = '))\n",
    "\n",
    "    if age == 3:\n",
    "        print('free')\n",
    "    elif age >=4 and age <=12:\n",
    "        print(\"please pay 10$\")\n",
    "    elif age >= 12:\n",
    "        print(\"please pay 15$\")\n",
    "        break        "
   ]
  },
  {
   "cell_type": "markdown",
   "metadata": {},
   "source": [
    "# Question4:\n",
    "Write a function called favorite_book() that accepts one parameter, title. The function should print a\n",
    "message, such as One of my favorite books is Alice in Wonderland. Call the function, making sure to\n",
    "include a book title as an argument in the function call."
   ]
  },
  {
   "cell_type": "code",
   "execution_count": 23,
   "metadata": {},
   "outputs": [
    {
     "name": "stdout",
     "output_type": "stream",
     "text": [
      "one of my fav book is alice in the wonderland\n"
     ]
    }
   ],
   "source": [
    "def favourite_book(title):\n",
    "      print('one of my fav book is',title)\n",
    "      \n",
    "favourite_book('alice in the wonderland')    "
   ]
  },
  {
   "cell_type": "markdown",
   "metadata": {},
   "source": [
    "# Question5:\n",
    "Guess the number game\n",
    "Write a program which randomly generate a number between 1 to 30 and ask the user in input field to\n",
    "guess the correct number. Give three chances to user guess the number and also give hint to user if\n",
    "hidden number is greater or smaller than the number he given to input field."
   ]
  },
  {
   "cell_type": "code",
   "execution_count": 18,
   "metadata": {},
   "outputs": [
    {
     "name": "stdout",
     "output_type": "stream",
     "text": [
      "enter number to check6\n",
      "enter number to check7\n",
      "enter number to check8\n",
      "wrong\n",
      "random number  20\n"
     ]
    }
   ],
   "source": [
    "import random\n",
    "a=random.randint(0, 30)\n",
    " \n",
    "num=int(input('enter number to check'))\n",
    "num1=int(input('enter number to check'))\n",
    "num2=int(input('enter number to check'))\n",
    "\n",
    "for num  in range(3):\n",
    "    if num == a:\n",
    "        print(\"correct\")\n",
    "        break\n",
    "    elif num1 == a:\n",
    "        print('correct')\n",
    "        break\n",
    "    elif num2 == a:\n",
    "        print('correct')\n",
    "        break\n",
    "    elif num != a and num1 !=a and num2 != a:\n",
    "        print(\"wrong\")\n",
    "        break\n",
    "print(\"random number \",a)       "
   ]
  },
  {
   "cell_type": "code",
   "execution_count": null,
   "metadata": {},
   "outputs": [],
   "source": []
  },
  {
   "cell_type": "code",
   "execution_count": null,
   "metadata": {},
   "outputs": [],
   "source": []
  }
 ],
 "metadata": {
  "kernelspec": {
   "display_name": "Python 3",
   "language": "python",
   "name": "python3"
  },
  "language_info": {
   "codemirror_mode": {
    "name": "ipython",
    "version": 3
   },
   "file_extension": ".py",
   "mimetype": "text/x-python",
   "name": "python",
   "nbconvert_exporter": "python",
   "pygments_lexer": "ipython3",
   "version": "3.7.4"
  }
 },
 "nbformat": 4,
 "nbformat_minor": 2
}
