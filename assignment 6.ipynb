{
 "cells": [
  {
   "cell_type": "markdown",
   "metadata": {},
   "source": [
    "# Question 1:\n",
    "Define Object Oriented Programming Language?"
   ]
  },
  {
   "cell_type": "code",
   "execution_count": null,
   "metadata": {},
   "outputs": [],
   "source": [
    "Object-oriented programming is a programming paradigm based on the concept of \"objects\", which can contain data, \n",
    "in the form of fields, and code, in the form of procedures. A feature of objects is an object's procedures that can access \n",
    "and often modify the data fields of the object with which they are associated"
   ]
  },
  {
   "cell_type": "markdown",
   "metadata": {},
   "source": [
    "# Question 2:\n",
    "List down the Benefits of OOP?"
   ]
  },
  {
   "cell_type": "code",
   "execution_count": null,
   "metadata": {},
   "outputs": [],
   "source": [
    "1:It provides a clear modular structure for programs which makes it good \n",
    "for defining abstract datatypes in which implementation details are hidden.\n",
    "2:Objects can also be reused within an across applications\n",
    "3:It makes software easier to maintain. ...\n",
    "4:Reuse also enables faster development"
   ]
  },
  {
   "cell_type": "markdown",
   "metadata": {},
   "source": [
    "# Question 3:\n",
    "Differentiate between function and method?"
   ]
  },
  {
   "cell_type": "code",
   "execution_count": null,
   "metadata": {},
   "outputs": [],
   "source": [
    "A function is a piece of code that is called by name. \n",
    "It can be passed data to operate on (i.e. the parameters) \n",
    "and can optionally return data (the return value). \n",
    "All data that is passed to a function is explicitly passed. \n",
    "A method is a piece of code that is called by a name that is associated with an object"
   ]
  },
  {
   "cell_type": "markdown",
   "metadata": {},
   "source": [
    "# Question 4:\n",
    "Define the following terms:\n",
    "1. Class\n",
    "2. Object\n",
    "3. Attribute\n",
    "4. Behavior"
   ]
  },
  {
   "cell_type": "code",
   "execution_count": null,
   "metadata": {},
   "outputs": [],
   "source": [
    "CLASS: a set or category of things having some property or attribute in common and differentiated from \n",
    "    others by kind, type, or quality.\n",
    "OBJECT:objects are the things you think about first in designing a program and they are also the units \n",
    "    of code that are eventually derived from the process\n",
    "ATTRIBUTE:classes and objects have attributes. Attributes are data stored inside a class or instance and\n",
    "    represent the state or quality of the class or instance\n",
    "BEHAVIOR:A class behavior determines how an instance of that class operates    "
   ]
  },
  {
   "cell_type": "markdown",
   "metadata": {},
   "source": [
    "# Question 5:\n",
    "Write a code in python in which create a class named it Car which\n",
    "have 5 attributes such like (model, color and name etc.) and 3\n",
    "methods. And create 5 object instance from that class."
   ]
  },
  {
   "cell_type": "code",
   "execution_count": 3,
   "metadata": {},
   "outputs": [
    {
     "name": "stdout",
     "output_type": "stream",
     "text": [
      "car model is 1990\n",
      "carname is corolla\n",
      "car color is black\n",
      "**************************\n",
      "car model is 2019\n",
      "carname is civic\n",
      "car color is white\n",
      "**************************\n",
      "car model is 2005\n",
      "carname is cultus\n",
      "car color is blue\n",
      "**************************\n",
      "car model is 1980\n",
      "carname is indus\n",
      "car color is red\n",
      "**************************\n",
      "car model is 2015\n",
      "carname is alto\n",
      "car color is black\n"
     ]
    }
   ],
   "source": [
    "class Car():\n",
    "    def __init__(self,model,color,name,new,old):\n",
    "        self.model=model\n",
    "        self.color=color\n",
    "        self.name=name\n",
    "        self.new=new\n",
    "        self.old=old\n",
    "    def carmodel(self):\n",
    "        print(\"car model is \" + self.model)\n",
    "    def carname(self):\n",
    "        print(\"carname is \" + self.name)\n",
    "    def carcolor(self):\n",
    "        print(\"car color is \" + self.color)\n",
    "        \n",
    "p1=Car('1990','black','corolla','no','yes')\n",
    "p2=Car('2019','white','civic','yes','yes')\n",
    "p3=Car('2005','blue','cultus','no','yes')\n",
    "p4=Car('1980','red','indus','no','yes')\n",
    "p5=Car('2015','black','alto','yes','no')\n",
    "p1.carmodel()\n",
    "p1.carname()\n",
    "p1.carcolor()\n",
    "print('**************************')\n",
    "p2.carmodel()\n",
    "p2.carname()\n",
    "p2.carcolor()\n",
    "print('**************************')\n",
    "\n",
    "p3.carmodel()\n",
    "p3.carname()\n",
    "p3.carcolor()\n",
    "print('**************************')\n",
    "\n",
    "p4.carmodel()\n",
    "p4.carname()\n",
    "p4.carcolor()\n",
    "print('**************************')\n",
    "\n",
    "p5.carmodel()\n",
    "p5.carname()\n",
    "p5.carcolor()"
   ]
  },
  {
   "cell_type": "code",
   "execution_count": null,
   "metadata": {},
   "outputs": [],
   "source": []
  }
 ],
 "metadata": {
  "kernelspec": {
   "display_name": "Python 3",
   "language": "python",
   "name": "python3"
  },
  "language_info": {
   "codemirror_mode": {
    "name": "ipython",
    "version": 3
   },
   "file_extension": ".py",
   "mimetype": "text/x-python",
   "name": "python",
   "nbconvert_exporter": "python",
   "pygments_lexer": "ipython3",
   "version": "3.7.4"
  }
 },
 "nbformat": 4,
 "nbformat_minor": 2
}
